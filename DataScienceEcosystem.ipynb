{
 "cells": [
  {
   "cell_type": "markdown",
   "id": "321be3a8-0692-44dd-9667-efef5f9fa607",
   "metadata": {},
   "source": [
    "# Data Science Tools and Ecosystem"
   ]
  },
  {
   "cell_type": "markdown",
   "id": "f620c117-f584-4ab4-be4d-4fad457a2eb8",
   "metadata": {},
   "source": [
    "In this Data Science Tools and Ecosystem are summarized."
   ]
  },
  {
   "cell_type": "markdown",
   "id": "39192be0-111e-4a9e-b555-78611a78e5bb",
   "metadata": {},
   "source": [
    "Some of the popular languages that Data Scientists use are:\n",
    "- Python\n",
    "- R\n",
    "- SQL"
   ]
  },
  {
   "cell_type": "markdown",
   "id": "35108ec5-533e-4a19-a0b5-b8364c067655",
   "metadata": {},
   "source": [
    "__Objectives:__\n",
    "- Popular Languages use by Data Scientists\n",
    "- Commonly used libraries in Data Science\n",
    "- Data Science Tools"
   ]
  },
  {
   "cell_type": "markdown",
   "id": "afd12b4c-bee4-4955-b2d4-fceada783933",
   "metadata": {},
   "source": [
    "Some of the commonly used libraries used by Data Scientists include:\n",
    "- Pandas\n",
    "- Numpy\n",
    "- Matplotlib\n",
    "- Seaborn\n",
    "- Caret"
   ]
  },
  {
   "cell_type": "markdown",
   "id": "54d4769b-66ce-4b86-a52d-dbe1c213873e",
   "metadata": {},
   "source": [
    "| Data Science Tools|\n",
    "| :-------|\n",
    "| Python | \n",
    "| R |\n",
    "| SQL|"
   ]
  },
  {
   "cell_type": "markdown",
   "id": "8389d2a9-24a3-4a54-b32c-e35ee6fe7c66",
   "metadata": {},
   "source": [
    "### Below are a few examples of evaluating arithmetic expressions in Python"
   ]
  },
  {
   "cell_type": "code",
   "execution_count": 16,
   "id": "be4f61ba-d429-496d-98fb-9b51db322b56",
   "metadata": {},
   "outputs": [
    {
     "data": {
      "text/plain": [
       "17"
      ]
     },
     "execution_count": 16,
     "metadata": {},
     "output_type": "execute_result"
    }
   ],
   "source": [
    "#This a simple arithmetic expression to mutiply then add integers\n",
    "(3*4)+5"
   ]
  },
  {
   "cell_type": "code",
   "execution_count": 18,
   "id": "aca0b130-1e7e-41c3-a937-c269bea48127",
   "metadata": {},
   "outputs": [
    {
     "data": {
      "text/plain": [
       "3.3333333333333335"
      ]
     },
     "execution_count": 18,
     "metadata": {},
     "output_type": "execute_result"
    }
   ],
   "source": [
    "#This will convert 200 minutes to hours by diving by 60\n",
    "200/60"
   ]
  },
  {
   "cell_type": "markdown",
   "id": "8c41bc56-dfb5-4ee1-8fa1-0bb67c2d58f9",
   "metadata": {},
   "source": [
    "## Author\n",
    "Ramesh"
   ]
  },
  {
   "cell_type": "code",
   "execution_count": null,
   "id": "9fe104dd-9c53-43fb-9029-e1553b2891f8",
   "metadata": {},
   "outputs": [],
   "source": []
  }
 ],
 "metadata": {
  "kernelspec": {
   "display_name": "Python 3 (ipykernel)",
   "language": "python",
   "name": "python3"
  },
  "language_info": {
   "codemirror_mode": {
    "name": "ipython",
    "version": 3
   },
   "file_extension": ".py",
   "mimetype": "text/x-python",
   "name": "python",
   "nbconvert_exporter": "python",
   "pygments_lexer": "ipython3",
   "version": "3.12.4"
  }
 },
 "nbformat": 4,
 "nbformat_minor": 5
}
